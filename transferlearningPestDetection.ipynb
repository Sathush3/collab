{
  "nbformat": 4,
  "nbformat_minor": 0,
  "metadata": {
    "colab": {
      "name": "transferlearningPestDetection.ipynb",
      "provenance": [],
      "collapsed_sections": [],
      "authorship_tag": "ABX9TyP2rR98M3cs+mnqVkTWC+tv",
      "include_colab_link": true
    },
    "kernelspec": {
      "name": "python3",
      "display_name": "Python 3"
    },
    "language_info": {
      "name": "python"
    },
    "accelerator": "GPU",
    "gpuClass": "standard"
  },
  "cells": [
    {
      "cell_type": "markdown",
      "metadata": {
        "id": "view-in-github",
        "colab_type": "text"
      },
      "source": [
        "<a href=\"https://colab.research.google.com/github/Sathush3/collab/blob/main/transferlearningPestDetection.ipynb\" target=\"_parent\"><img src=\"https://colab.research.google.com/assets/colab-badge.svg\" alt=\"Open In Colab\"/></a>"
      ]
    },
    {
      "cell_type": "code",
      "source": [
        "!nvcc --version"
      ],
      "metadata": {
        "id": "M5h97bDZBFYe",
        "colab": {
          "base_uri": "https://localhost:8080/"
        },
        "outputId": "93258fd9-ac7a-4d1d-9721-1ba7855c34b1"
      },
      "execution_count": null,
      "outputs": [
        {
          "output_type": "stream",
          "name": "stdout",
          "text": [
            "nvcc: NVIDIA (R) Cuda compiler driver\n",
            "Copyright (c) 2005-2020 NVIDIA Corporation\n",
            "Built on Mon_Oct_12_20:09:46_PDT_2020\n",
            "Cuda compilation tools, release 11.1, V11.1.105\n",
            "Build cuda_11.1.TC455_06.29190527_0\n"
          ]
        }
      ]
    },
    {
      "cell_type": "code",
      "source": [
        "!nvidia-smi"
      ],
      "metadata": {
        "colab": {
          "base_uri": "https://localhost:8080/"
        },
        "id": "pFUMQpxB-knp",
        "outputId": "c57e0977-7c65-44a2-a7df-0931069881d5"
      },
      "execution_count": null,
      "outputs": [
        {
          "output_type": "stream",
          "name": "stdout",
          "text": [
            "Sun Jul 10 14:24:25 2022       \n",
            "+-----------------------------------------------------------------------------+\n",
            "| NVIDIA-SMI 460.32.03    Driver Version: 460.32.03    CUDA Version: 11.2     |\n",
            "|-------------------------------+----------------------+----------------------+\n",
            "| GPU  Name        Persistence-M| Bus-Id        Disp.A | Volatile Uncorr. ECC |\n",
            "| Fan  Temp  Perf  Pwr:Usage/Cap|         Memory-Usage | GPU-Util  Compute M. |\n",
            "|                               |                      |               MIG M. |\n",
            "|===============================+======================+======================|\n",
            "|   0  Tesla T4            Off  | 00000000:00:04.0 Off |                    0 |\n",
            "| N/A   52C    P8    10W /  70W |      0MiB / 15109MiB |      0%      Default |\n",
            "|                               |                      |                  N/A |\n",
            "+-------------------------------+----------------------+----------------------+\n",
            "                                                                               \n",
            "+-----------------------------------------------------------------------------+\n",
            "| Processes:                                                                  |\n",
            "|  GPU   GI   CI        PID   Type   Process name                  GPU Memory |\n",
            "|        ID   ID                                                   Usage      |\n",
            "|=============================================================================|\n",
            "|  No running processes found                                                 |\n",
            "+-----------------------------------------------------------------------------+\n"
          ]
        }
      ]
    },
    {
      "cell_type": "markdown",
      "source": [
        "Dataset Download"
      ],
      "metadata": {
        "id": "dUqqxsinBDvE"
      }
    },
    {
      "cell_type": "markdown",
      "source": [
        "unzip and set the directories"
      ],
      "metadata": {
        "id": "yvlVkJohBRhF"
      }
    },
    {
      "cell_type": "code",
      "source": [
        "from google.colab import drive\n",
        "drive.mount('/content/drive')\n",
        "%cd '/content/drive/MyDrive/Colab Notebooks'"
      ],
      "metadata": {
        "id": "t0UNcBYSb7dG"
      },
      "execution_count": null,
      "outputs": []
    },
    {
      "cell_type": "code",
      "source": [
        "import os\n",
        "import zipfile\n",
        "base_dir = '/content/pest/dataset'\n",
        "train_dir = os.path.join(base_dir, 'train')\n",
        "validation_dir = os.path.join(base_dir, 'validation')"
      ],
      "metadata": {
        "id": "3hTQnmBXAyeb"
      },
      "execution_count": null,
      "outputs": []
    },
    {
      "cell_type": "markdown",
      "source": [
        "loading training and validation dataset"
      ],
      "metadata": {
        "id": "6aPVbWs-XYU_"
      }
    },
    {
      "cell_type": "code",
      "source": [
        "import tensorflow as tf\n",
        "from tensorflow import keras\n",
        "from tensorflow.keras.preprocessing import image_dataset_from_directory"
      ],
      "metadata": {
        "id": "xCGF-fmNcf_R"
      },
      "execution_count": null,
      "outputs": []
    },
    {
      "cell_type": "markdown",
      "source": [
        "Adjust batch size here for tuning\n"
      ],
      "metadata": {
        "id": "pLWJtN9Hju8z"
      }
    },
    {
      "cell_type": "code",
      "source": [
        "import tensorflow as tf\n",
        "from tensorflow import keras\n",
        "from tensorflow.keras.preprocessing import image_dataset_from_directory\n",
        "train_dir = 'fy/train'\n",
        "#validDir = 'fy/valid'\n",
        "testDir = 'fy/train'\n",
        "\n",
        "IMG_SIZE = 224\n",
        "BATCH_SIZE = 512\n",
        "\n",
        "train_ds = tf.keras.utils.image_dataset_from_directory(\n",
        "  train_dir,\n",
        "  validation_split=0.2,\n",
        "  seed=123,\n",
        "  subset=\"training\",\n",
        "  image_size=(224, 224),\n",
        "  batch_size=BATCH_SIZE,\n",
        "  \n",
        "  )\n",
        "val_ds = tf.keras.utils.image_dataset_from_directory(\n",
        "  train_dir,\n",
        "  validation_split=0.2,\n",
        "  subset=\"validation\",\n",
        "  seed=123,\n",
        "  image_size=(224, 224),\n",
        "  batch_size=BATCH_SIZE\n",
        "  )"
      ],
      "metadata": {
        "id": "gd-VFaSoAymt"
      },
      "execution_count": null,
      "outputs": []
    },
    {
      "cell_type": "markdown",
      "source": [
        "View the class name and first 10 images of each class"
      ],
      "metadata": {
        "id": "ygS5QZUegGoq"
      }
    },
    {
      "cell_type": "code",
      "source": [
        "class_names = train_ds.class_names\n",
        "plt.figure(figsize=(10, 10))\n",
        "for images, labels in train_ds.take(1):\n",
        "  for i in range(9):\n",
        "    ax = plt.subplot(3, 3, i + 1)\n",
        "    plt.imshow(images[i].numpy().astype(\"uint8\"))\n",
        "    plt.title(class_names[labels[i]])\n",
        "    plt.axis(\"off\")"
      ],
      "metadata": {
        "id": "hMwmV6aQf458"
      },
      "execution_count": null,
      "outputs": []
    },
    {
      "cell_type": "markdown",
      "source": [
        "# Autotune\n"
      ],
      "metadata": {
        "id": "sTJeTQP0c2uf"
      }
    },
    {
      "cell_type": "code",
      "source": [
        "AUTOTUNE = tf.data.AUTOTUNE\n",
        "\n",
        "train_ds = train_ds.prefetch(buffer_size=AUTOTUNE)\n",
        "val_ds = val_ds.prefetch(buffer_size=AUTOTUNE)"
      ],
      "metadata": {
        "id": "c2YTW0u5c1mL"
      },
      "execution_count": null,
      "outputs": []
    },
    {
      "cell_type": "markdown",
      "source": [
        "# Data Augmentation\n"
      ],
      "metadata": {
        "id": "nDk_rDVgXd9K"
      }
    },
    {
      "cell_type": "markdown",
      "source": [
        "data augmentation by random flipping\n",
        "When you apply augmentation to a training set, you’re preventing overfitting, because augmentation exposes different aspects of the image to the model."
      ],
      "metadata": {
        "id": "fVFqHGhuXmBA"
      }
    },
    {
      "cell_type": "code",
      "source": [
        "data_augmentation = keras.Sequential(\n",
        "    [       keras.layers.experimental.preprocessing.RandomFlip(\"horizontal\"),\n",
        "   keras.layers.experimental.preprocessing.RandomRotation(0.1),\n",
        "    ]\n",
        ")"
      ],
      "metadata": {
        "id": "TXOLEtUUAyp1"
      },
      "execution_count": null,
      "outputs": []
    },
    {
      "cell_type": "markdown",
      "source": [
        "checking result of the augmentaion"
      ],
      "metadata": {
        "id": "SKEUV2pdX6ux"
      }
    },
    {
      "cell_type": "code",
      "source": [
        "import numpy as np\n",
        "import matplotlib.pyplot as plt\n",
        "for images, labels in training_set.take(1):\n",
        "    plt.figure(figsize=(12, 12))\n",
        "    first_image = images[0]\n",
        "    for i in range(12):\n",
        "        ax = plt.subplot(3, 4, i + 1)\n",
        "        augmented_image = data_augmentation(\n",
        "            tf.expand_dims(first_image, 0)\n",
        "        )\n",
        "        plt.imshow(augmented_image[0].numpy().astype(\"int32\"))\n",
        "        plt.axis(\"off\")"
      ],
      "metadata": {
        "id": "DtwqnsUiAys9"
      },
      "execution_count": null,
      "outputs": []
    },
    {
      "cell_type": "markdown",
      "source": [
        "# Creating a base model from pre-trained models\n"
      ],
      "metadata": {
        "id": "e6DQIi7yYAD6"
      }
    },
    {
      "cell_type": "markdown",
      "source": [
        "using the model trained on imagenet dataset\n",
        "`include_top=False` means that we're not interested in the last layer of the model. Since models are visualized from bottom to top, that layer is referred to as the top layer. Excluding the top layers is important for feature extraction."
      ],
      "metadata": {
        "id": "lzHUs19EYJZk"
      }
    },
    {
      "cell_type": "code",
      "source": [
        "base_model = keras.applications.MobileNetV3Large(\n",
        "    weights='imagenet',  \n",
        "    input_shape=(224, 224, 3),\n",
        "    include_top=False) "
      ],
      "metadata": {
        "id": "fxJfNnueoZJh",
        "colab": {
          "base_uri": "https://localhost:8080/"
        },
        "outputId": "92d53c06-c9a5-4620-b1d8-f88c4e54e467"
      },
      "execution_count": null,
      "outputs": [
        {
          "output_type": "stream",
          "name": "stdout",
          "text": [
            "Downloading data from https://storage.googleapis.com/tensorflow/keras-applications/mobilenet_v3/weights_mobilenet_v3_large_224_1.0_float_no_top_v2.h5\n",
            "12689408/12683000 [==============================] - 0s 0us/step\n",
            "12697600/12683000 [==============================] - 0s 0us/step\n"
          ]
        }
      ]
    },
    {
      "cell_type": "code",
      "source": [
        "base_model = keras.applications.InceptionV3(\n",
        "    weights='imagenet',  \n",
        "    input_shape=(224, 224, 3),\n",
        "    include_top=False) "
      ],
      "metadata": {
        "colab": {
          "base_uri": "https://localhost:8080/"
        },
        "id": "GLrbPVsqYwOU",
        "outputId": "c6761185-7a33-4aaf-fe65-6ad0f08d6c3d"
      },
      "execution_count": null,
      "outputs": [
        {
          "output_type": "stream",
          "name": "stdout",
          "text": [
            "Downloading data from https://storage.googleapis.com/tensorflow/keras-applications/inception_v3/inception_v3_weights_tf_dim_ordering_tf_kernels_notop.h5\n",
            "87916544/87910968 [==============================] - 0s 0us/step\n",
            "87924736/87910968 [==============================] - 0s 0us/step\n"
          ]
        }
      ]
    },
    {
      "cell_type": "code",
      "source": [
        "base_model = keras.applications.ResNet50(\n",
        "    weights='imagenet',  \n",
        "    input_shape=(224, 224, 3),\n",
        "    include_top=False) "
      ],
      "metadata": {
        "colab": {
          "base_uri": "https://localhost:8080/"
        },
        "id": "8IJ0sUHoYwAx",
        "outputId": "110b031c-8cc8-4eae-b533-3ffd869e8209"
      },
      "execution_count": null,
      "outputs": [
        {
          "output_type": "stream",
          "name": "stdout",
          "text": [
            "Downloading data from https://storage.googleapis.com/tensorflow/keras-applications/resnet/resnet50_weights_tf_dim_ordering_tf_kernels_notop.h5\n",
            "94773248/94765736 [==============================] - 0s 0us/step\n",
            "94781440/94765736 [==============================] - 0s 0us/step\n"
          ]
        }
      ]
    },
    {
      "cell_type": "code",
      "source": [
        "base_model = keras.applications.DenseNet121(\n",
        "    weights='imagenet',  \n",
        "    input_shape=(224, 224, 3),\n",
        "    include_top=False) "
      ],
      "metadata": {
        "colab": {
          "base_uri": "https://localhost:8080/"
        },
        "id": "ZYRNhmRjYv5u",
        "outputId": "7d2e2541-0673-4f7c-b849-8f7ad842ed33"
      },
      "execution_count": null,
      "outputs": [
        {
          "output_type": "stream",
          "name": "stdout",
          "text": [
            "Downloading data from https://storage.googleapis.com/tensorflow/keras-applications/densenet/densenet121_weights_tf_dim_ordering_tf_kernels_notop.h5\n",
            "29089792/29084464 [==============================] - 0s 0us/step\n",
            "29097984/29084464 [==============================] - 0s 0us/step\n"
          ]
        }
      ]
    },
    {
      "cell_type": "code",
      "source": [
        "base_model = keras.applications.NASNetMobile(\n",
        "    weights='imagenet',  \n",
        "    input_shape=(224, 224, 3),\n",
        "    include_top=False) "
      ],
      "metadata": {
        "colab": {
          "base_uri": "https://localhost:8080/"
        },
        "id": "RClMTf2PYvwq",
        "outputId": "916ccfab-f61a-4987-9907-e18b4a96dced"
      },
      "execution_count": null,
      "outputs": [
        {
          "output_type": "stream",
          "name": "stdout",
          "text": [
            "Downloading data from https://storage.googleapis.com/tensorflow/keras-applications/nasnet/NASNet-mobile-no-top.h5\n",
            "19996672/19993432 [==============================] - 0s 0us/step\n",
            "20004864/19993432 [==============================] - 0s 0us/step\n"
          ]
        }
      ]
    },
    {
      "cell_type": "code",
      "metadata": {
        "colab": {
          "base_uri": "https://localhost:8080/"
        },
        "id": "PoyVcffCw705",
        "outputId": "b81f56da-9262-4fa4-c0e3-3ab621ae8559"
      },
      "source": [
        "!pip install git+https://github.com/rcmalli/keras-squeezenet.git"
      ],
      "execution_count": null,
      "outputs": [
        {
          "output_type": "stream",
          "name": "stdout",
          "text": [
            "Looking in indexes: https://pypi.org/simple, https://us-python.pkg.dev/colab-wheels/public/simple/\n",
            "Collecting git+https://github.com/rcmalli/keras-squeezenet.git\n",
            "  Cloning https://github.com/rcmalli/keras-squeezenet.git to /tmp/pip-req-build-b6xb055w\n",
            "  Running command git clone -q https://github.com/rcmalli/keras-squeezenet.git /tmp/pip-req-build-b6xb055w\n",
            "Requirement already satisfied: numpy>=1.9.1 in /usr/local/lib/python3.7/dist-packages (from keras-squeezenet==0.4) (1.21.6)\n",
            "Requirement already satisfied: scipy>=0.14 in /usr/local/lib/python3.7/dist-packages (from keras-squeezenet==0.4) (1.4.1)\n",
            "Requirement already satisfied: h5py in /usr/local/lib/python3.7/dist-packages (from keras-squeezenet==0.4) (3.1.0)\n",
            "Requirement already satisfied: tensorflow in /usr/local/lib/python3.7/dist-packages (from keras-squeezenet==0.4) (2.8.2+zzzcolab20220527125636)\n",
            "Requirement already satisfied: keras in /usr/local/lib/python3.7/dist-packages (from keras-squeezenet==0.4) (2.8.0)\n",
            "Requirement already satisfied: six>=1.9.0 in /usr/local/lib/python3.7/dist-packages (from keras-squeezenet==0.4) (1.15.0)\n",
            "Requirement already satisfied: pyyaml in /usr/local/lib/python3.7/dist-packages (from keras-squeezenet==0.4) (3.13)\n",
            "Requirement already satisfied: cached-property in /usr/local/lib/python3.7/dist-packages (from h5py->keras-squeezenet==0.4) (1.5.2)\n",
            "Requirement already satisfied: keras-preprocessing>=1.1.1 in /usr/local/lib/python3.7/dist-packages (from tensorflow->keras-squeezenet==0.4) (1.1.2)\n",
            "Requirement already satisfied: google-pasta>=0.1.1 in /usr/local/lib/python3.7/dist-packages (from tensorflow->keras-squeezenet==0.4) (0.2.0)\n",
            "Requirement already satisfied: typing-extensions>=3.6.6 in /usr/local/lib/python3.7/dist-packages (from tensorflow->keras-squeezenet==0.4) (4.1.1)\n",
            "Requirement already satisfied: astunparse>=1.6.0 in /usr/local/lib/python3.7/dist-packages (from tensorflow->keras-squeezenet==0.4) (1.6.3)\n",
            "Requirement already satisfied: absl-py>=0.4.0 in /usr/local/lib/python3.7/dist-packages (from tensorflow->keras-squeezenet==0.4) (1.1.0)\n",
            "Requirement already satisfied: gast>=0.2.1 in /usr/local/lib/python3.7/dist-packages (from tensorflow->keras-squeezenet==0.4) (0.5.3)\n",
            "Requirement already satisfied: flatbuffers>=1.12 in /usr/local/lib/python3.7/dist-packages (from tensorflow->keras-squeezenet==0.4) (2.0)\n",
            "Requirement already satisfied: setuptools in /usr/local/lib/python3.7/dist-packages (from tensorflow->keras-squeezenet==0.4) (57.4.0)\n",
            "Requirement already satisfied: opt-einsum>=2.3.2 in /usr/local/lib/python3.7/dist-packages (from tensorflow->keras-squeezenet==0.4) (3.3.0)\n",
            "Requirement already satisfied: protobuf<3.20,>=3.9.2 in /usr/local/lib/python3.7/dist-packages (from tensorflow->keras-squeezenet==0.4) (3.17.3)\n",
            "Requirement already satisfied: tensorboard<2.9,>=2.8 in /usr/local/lib/python3.7/dist-packages (from tensorflow->keras-squeezenet==0.4) (2.8.0)\n",
            "Requirement already satisfied: wrapt>=1.11.0 in /usr/local/lib/python3.7/dist-packages (from tensorflow->keras-squeezenet==0.4) (1.14.1)\n",
            "Requirement already satisfied: tensorflow-io-gcs-filesystem>=0.23.1 in /usr/local/lib/python3.7/dist-packages (from tensorflow->keras-squeezenet==0.4) (0.26.0)\n",
            "Requirement already satisfied: tensorflow-estimator<2.9,>=2.8 in /usr/local/lib/python3.7/dist-packages (from tensorflow->keras-squeezenet==0.4) (2.8.0)\n",
            "Requirement already satisfied: termcolor>=1.1.0 in /usr/local/lib/python3.7/dist-packages (from tensorflow->keras-squeezenet==0.4) (1.1.0)\n",
            "Requirement already satisfied: grpcio<2.0,>=1.24.3 in /usr/local/lib/python3.7/dist-packages (from tensorflow->keras-squeezenet==0.4) (1.46.3)\n",
            "Requirement already satisfied: libclang>=9.0.1 in /usr/local/lib/python3.7/dist-packages (from tensorflow->keras-squeezenet==0.4) (14.0.1)\n",
            "Requirement already satisfied: wheel<1.0,>=0.23.0 in /usr/local/lib/python3.7/dist-packages (from astunparse>=1.6.0->tensorflow->keras-squeezenet==0.4) (0.37.1)\n",
            "Requirement already satisfied: tensorboard-plugin-wit>=1.6.0 in /usr/local/lib/python3.7/dist-packages (from tensorboard<2.9,>=2.8->tensorflow->keras-squeezenet==0.4) (1.8.1)\n",
            "Requirement already satisfied: markdown>=2.6.8 in /usr/local/lib/python3.7/dist-packages (from tensorboard<2.9,>=2.8->tensorflow->keras-squeezenet==0.4) (3.3.7)\n",
            "Requirement already satisfied: requests<3,>=2.21.0 in /usr/local/lib/python3.7/dist-packages (from tensorboard<2.9,>=2.8->tensorflow->keras-squeezenet==0.4) (2.23.0)\n",
            "Requirement already satisfied: google-auth-oauthlib<0.5,>=0.4.1 in /usr/local/lib/python3.7/dist-packages (from tensorboard<2.9,>=2.8->tensorflow->keras-squeezenet==0.4) (0.4.6)\n",
            "Requirement already satisfied: google-auth<3,>=1.6.3 in /usr/local/lib/python3.7/dist-packages (from tensorboard<2.9,>=2.8->tensorflow->keras-squeezenet==0.4) (1.35.0)\n",
            "Requirement already satisfied: tensorboard-data-server<0.7.0,>=0.6.0 in /usr/local/lib/python3.7/dist-packages (from tensorboard<2.9,>=2.8->tensorflow->keras-squeezenet==0.4) (0.6.1)\n",
            "Requirement already satisfied: werkzeug>=0.11.15 in /usr/local/lib/python3.7/dist-packages (from tensorboard<2.9,>=2.8->tensorflow->keras-squeezenet==0.4) (1.0.1)\n",
            "Requirement already satisfied: pyasn1-modules>=0.2.1 in /usr/local/lib/python3.7/dist-packages (from google-auth<3,>=1.6.3->tensorboard<2.9,>=2.8->tensorflow->keras-squeezenet==0.4) (0.2.8)\n",
            "Requirement already satisfied: cachetools<5.0,>=2.0.0 in /usr/local/lib/python3.7/dist-packages (from google-auth<3,>=1.6.3->tensorboard<2.9,>=2.8->tensorflow->keras-squeezenet==0.4) (4.2.4)\n",
            "Requirement already satisfied: rsa<5,>=3.1.4 in /usr/local/lib/python3.7/dist-packages (from google-auth<3,>=1.6.3->tensorboard<2.9,>=2.8->tensorflow->keras-squeezenet==0.4) (4.8)\n",
            "Requirement already satisfied: requests-oauthlib>=0.7.0 in /usr/local/lib/python3.7/dist-packages (from google-auth-oauthlib<0.5,>=0.4.1->tensorboard<2.9,>=2.8->tensorflow->keras-squeezenet==0.4) (1.3.1)\n",
            "Requirement already satisfied: importlib-metadata>=4.4 in /usr/local/lib/python3.7/dist-packages (from markdown>=2.6.8->tensorboard<2.9,>=2.8->tensorflow->keras-squeezenet==0.4) (4.11.4)\n",
            "Requirement already satisfied: zipp>=0.5 in /usr/local/lib/python3.7/dist-packages (from importlib-metadata>=4.4->markdown>=2.6.8->tensorboard<2.9,>=2.8->tensorflow->keras-squeezenet==0.4) (3.8.0)\n",
            "Requirement already satisfied: pyasn1<0.5.0,>=0.4.6 in /usr/local/lib/python3.7/dist-packages (from pyasn1-modules>=0.2.1->google-auth<3,>=1.6.3->tensorboard<2.9,>=2.8->tensorflow->keras-squeezenet==0.4) (0.4.8)\n",
            "Requirement already satisfied: certifi>=2017.4.17 in /usr/local/lib/python3.7/dist-packages (from requests<3,>=2.21.0->tensorboard<2.9,>=2.8->tensorflow->keras-squeezenet==0.4) (2022.6.15)\n",
            "Requirement already satisfied: idna<3,>=2.5 in /usr/local/lib/python3.7/dist-packages (from requests<3,>=2.21.0->tensorboard<2.9,>=2.8->tensorflow->keras-squeezenet==0.4) (2.10)\n",
            "Requirement already satisfied: urllib3!=1.25.0,!=1.25.1,<1.26,>=1.21.1 in /usr/local/lib/python3.7/dist-packages (from requests<3,>=2.21.0->tensorboard<2.9,>=2.8->tensorflow->keras-squeezenet==0.4) (1.24.3)\n",
            "Requirement already satisfied: chardet<4,>=3.0.2 in /usr/local/lib/python3.7/dist-packages (from requests<3,>=2.21.0->tensorboard<2.9,>=2.8->tensorflow->keras-squeezenet==0.4) (3.0.4)\n",
            "Requirement already satisfied: oauthlib>=3.0.0 in /usr/local/lib/python3.7/dist-packages (from requests-oauthlib>=0.7.0->google-auth-oauthlib<0.5,>=0.4.1->tensorboard<2.9,>=2.8->tensorflow->keras-squeezenet==0.4) (3.2.0)\n",
            "Building wheels for collected packages: keras-squeezenet\n",
            "  Building wheel for keras-squeezenet (setup.py) ... \u001b[?25l\u001b[?25hdone\n",
            "  Created wheel for keras-squeezenet: filename=keras_squeezenet-0.4-py3-none-any.whl size=4435 sha256=5e36d8bc06051c036ff4568074e7df339a4b4e75043a68677009a1783d315a06\n",
            "  Stored in directory: /tmp/pip-ephem-wheel-cache-ogj5waix/wheels/30/c8/6f/e0ccdc0b275ae53ec21e2d65b172dc970202111a7cd5b66c32\n",
            "Successfully built keras-squeezenet\n",
            "Installing collected packages: keras-squeezenet\n",
            "Successfully installed keras-squeezenet-0.4\n"
          ]
        }
      ]
    },
    {
      "cell_type": "code",
      "metadata": {
        "id": "iZIa13p3yUII",
        "colab": {
          "base_uri": "https://localhost:8080/"
        },
        "outputId": "71167c5f-d907-46ea-b1a2-cfe8aa3274e8"
      },
      "source": [
        "import numpy as np\n",
        "from keras_squeezenet import SqueezeNet\n",
        "from keras.applications.imagenet_utils import preprocess_input, decode_predictions\n",
        "from keras.preprocessing import image\n",
        "base_model=SqueezeNet(include_top=False, \n",
        "                      weights='imagenet',\n",
        "                      input_shape=(224, 224, 3),\n",
        "                      include_top=False)"
      ],
      "execution_count": null,
      "outputs": [
        {
          "output_type": "stream",
          "name": "stderr",
          "text": [
            "Using TensorFlow backend.\n",
            "/usr/local/lib/python3.7/dist-packages/tensorflow/python/framework/dtypes.py:516: FutureWarning: Passing (type, 1) or '1type' as a synonym of type is deprecated; in a future version of numpy, it will be understood as (type, (1,)) / '(1,)type'.\n",
            "  _np_qint8 = np.dtype([(\"qint8\", np.int8, 1)])\n",
            "/usr/local/lib/python3.7/dist-packages/tensorflow/python/framework/dtypes.py:517: FutureWarning: Passing (type, 1) or '1type' as a synonym of type is deprecated; in a future version of numpy, it will be understood as (type, (1,)) / '(1,)type'.\n",
            "  _np_quint8 = np.dtype([(\"quint8\", np.uint8, 1)])\n",
            "/usr/local/lib/python3.7/dist-packages/tensorflow/python/framework/dtypes.py:518: FutureWarning: Passing (type, 1) or '1type' as a synonym of type is deprecated; in a future version of numpy, it will be understood as (type, (1,)) / '(1,)type'.\n",
            "  _np_qint16 = np.dtype([(\"qint16\", np.int16, 1)])\n",
            "/usr/local/lib/python3.7/dist-packages/tensorflow/python/framework/dtypes.py:519: FutureWarning: Passing (type, 1) or '1type' as a synonym of type is deprecated; in a future version of numpy, it will be understood as (type, (1,)) / '(1,)type'.\n",
            "  _np_quint16 = np.dtype([(\"quint16\", np.uint16, 1)])\n",
            "/usr/local/lib/python3.7/dist-packages/tensorflow/python/framework/dtypes.py:520: FutureWarning: Passing (type, 1) or '1type' as a synonym of type is deprecated; in a future version of numpy, it will be understood as (type, (1,)) / '(1,)type'.\n",
            "  _np_qint32 = np.dtype([(\"qint32\", np.int32, 1)])\n",
            "/usr/local/lib/python3.7/dist-packages/tensorflow/python/framework/dtypes.py:525: FutureWarning: Passing (type, 1) or '1type' as a synonym of type is deprecated; in a future version of numpy, it will be understood as (type, (1,)) / '(1,)type'.\n",
            "  np_resource = np.dtype([(\"resource\", np.ubyte, 1)])\n",
            "/usr/local/lib/python3.7/dist-packages/tensorboard/compat/tensorflow_stub/dtypes.py:541: FutureWarning: Passing (type, 1) or '1type' as a synonym of type is deprecated; in a future version of numpy, it will be understood as (type, (1,)) / '(1,)type'.\n",
            "  _np_qint8 = np.dtype([(\"qint8\", np.int8, 1)])\n",
            "/usr/local/lib/python3.7/dist-packages/tensorboard/compat/tensorflow_stub/dtypes.py:542: FutureWarning: Passing (type, 1) or '1type' as a synonym of type is deprecated; in a future version of numpy, it will be understood as (type, (1,)) / '(1,)type'.\n",
            "  _np_quint8 = np.dtype([(\"quint8\", np.uint8, 1)])\n",
            "/usr/local/lib/python3.7/dist-packages/tensorboard/compat/tensorflow_stub/dtypes.py:543: FutureWarning: Passing (type, 1) or '1type' as a synonym of type is deprecated; in a future version of numpy, it will be understood as (type, (1,)) / '(1,)type'.\n",
            "  _np_qint16 = np.dtype([(\"qint16\", np.int16, 1)])\n",
            "/usr/local/lib/python3.7/dist-packages/tensorboard/compat/tensorflow_stub/dtypes.py:544: FutureWarning: Passing (type, 1) or '1type' as a synonym of type is deprecated; in a future version of numpy, it will be understood as (type, (1,)) / '(1,)type'.\n",
            "  _np_quint16 = np.dtype([(\"quint16\", np.uint16, 1)])\n",
            "/usr/local/lib/python3.7/dist-packages/tensorboard/compat/tensorflow_stub/dtypes.py:545: FutureWarning: Passing (type, 1) or '1type' as a synonym of type is deprecated; in a future version of numpy, it will be understood as (type, (1,)) / '(1,)type'.\n",
            "  _np_qint32 = np.dtype([(\"qint32\", np.int32, 1)])\n",
            "/usr/local/lib/python3.7/dist-packages/tensorboard/compat/tensorflow_stub/dtypes.py:550: FutureWarning: Passing (type, 1) or '1type' as a synonym of type is deprecated; in a future version of numpy, it will be understood as (type, (1,)) / '(1,)type'.\n",
            "  np_resource = np.dtype([(\"resource\", np.ubyte, 1)])\n"
          ]
        }
      ]
    },
    {
      "cell_type": "markdown",
      "source": [
        "freeze the base model layers so that they’re not updated during the training process. \n",
        "\n",
        "Since many pre-trained models have a `tf.keras.layers.BatchNormalization` layer, it’s important to freeze those layers. Otherwise, the layer mean and variance will be updated, which will destroy what the model has already learned. "
      ],
      "metadata": {
        "id": "5HnvAflmYqrO"
      }
    },
    {
      "cell_type": "code",
      "source": [
        "base_model.trainable = False"
      ],
      "metadata": {
        "id": "wHAFk4XgAyys"
      },
      "execution_count": null,
      "outputs": []
    },
    {
      "cell_type": "markdown",
      "source": [
        "# Feature extraction"
      ],
      "metadata": {
        "id": "Fp8_Rx86i9oN"
      }
    },
    {
      "cell_type": "markdown",
      "source": [
        " By specifying the include_top=False argument, we load a network which doesn't include the classification layers at the top, which is ideal for feature extraction.\n",
        "This feature extractor converts each 224x224x3 image into a 5x5x1280 block of features"
      ],
      "metadata": {
        "id": "s9UucQYajGGk"
      }
    },
    {
      "cell_type": "code",
      "source": [
        "image_batch, label_batch = next(iter(train_dataset))\n",
        "feature_batch = base_model(image_batch)\n",
        "print(feature_batch.shape)"
      ],
      "metadata": {
        "id": "DdorwAIJi8vZ"
      },
      "execution_count": null,
      "outputs": []
    },
    {
      "cell_type": "markdown",
      "source": [
        "# Create the final dense layer"
      ],
      "metadata": {
        "id": "gi-EAt8Fo2l9"
      }
    },
    {
      "cell_type": "markdown",
      "source": [
        "When loading the model, you used `include_top=False` meaning that the final dense layer of the pre-trained model wasn’t included. \n",
        "so we need define a final output layer for this model. "
      ],
      "metadata": {
        "id": "UDG64yAgo5OX"
      }
    },
    {
      "cell_type": "code",
      "source": [
        "#inputs = keras.Input(shape=(224, 224, 3))\n",
        "img_shape = (IMG_SIZE, IMG_SIZE, 3)\n",
        "inputs = Input(img_shape)\n",
        "num_classes = 10"
      ],
      "metadata": {
        "id": "AV6CC6MSAy1j"
      },
      "execution_count": null,
      "outputs": []
    },
    {
      "cell_type": "markdown",
      "source": [
        "apply data augmentation"
      ],
      "metadata": {
        "id": "e1agGXIrpEDm"
      }
    },
    {
      "cell_type": "code",
      "source": [
        "outputs = data_augmentation(inputs)"
      ],
      "metadata": {
        "id": "49TF961pAy4a"
      },
      "execution_count": null,
      "outputs": []
    },
    {
      "cell_type": "markdown",
      "source": [
        "# Preprocess using model's built in preprocessor"
      ],
      "metadata": {
        "id": "aYKEx_BHZXul"
      }
    },
    {
      "cell_type": "markdown",
      "source": [
        "use various but almost similar"
      ],
      "metadata": {
        "id": "Nd_mRsdpiX8P"
      }
    },
    {
      "cell_type": "code",
      "source": [
        "outputs = tf.keras.applications.mobilenet_v3.preprocess_input(outputs)"
      ],
      "metadata": {
        "id": "-C6ZDzsQAy7S"
      },
      "execution_count": null,
      "outputs": []
    },
    {
      "cell_type": "code",
      "source": [
        "outputs = tf.keras.applications.resnet50.preprocess_input(outputs)"
      ],
      "metadata": {
        "id": "zW8nYrpGicqI"
      },
      "execution_count": null,
      "outputs": []
    },
    {
      "cell_type": "code",
      "source": [
        "outputs = tf.keras.applications.densenet.preprocess_input(outputs)"
      ],
      "metadata": {
        "id": "rP2xF95niceZ"
      },
      "execution_count": null,
      "outputs": []
    },
    {
      "cell_type": "code",
      "source": [
        "outputs = tf.keras.applications.inception_v3.preprocess_input(outputs)"
      ],
      "metadata": {
        "id": "s9_ttpqljM6a"
      },
      "execution_count": null,
      "outputs": []
    },
    {
      "cell_type": "markdown",
      "source": [
        "# Define Model"
      ],
      "metadata": {
        "id": "rpn-dR9Jjizu"
      }
    },
    {
      "cell_type": "markdown",
      "source": [
        "\n",
        "ensure that the base model is running in inference mode so that batch normalization layers are not updated during the fine-tuning stage (set `training=False`);\n",
        "convert features from the base model to vectors, using `GlobalAveragePooling2D`;\n",
        "apply dropout regularization;\n",
        "add a final dense layer (when you used `include_top=False,` the final output layer was not included,so we have to define our own)."
      ],
      "metadata": {
        "id": "FEhxf8oovIEw"
      }
    },
    {
      "cell_type": "code",
      "source": [
        "global_average_layer = tf.keras.layers.GlobalAveragePooling2D()\n",
        "feature_batch_average = global_average_layer(feature_batch)\n",
        "print(feature_batch_average.shape)"
      ],
      "metadata": {
        "id": "KJ1JOuAWkpNr"
      },
      "execution_count": null,
      "outputs": []
    },
    {
      "cell_type": "code",
      "source": [
        "prediction_layer = tf.keras.layers.Dense(num_classes, activation = 'relu')\n",
        "prediction_batch = prediction_layer(feature_batch_average)\n",
        "print(prediction_batch.shape)"
      ],
      "metadata": {
        "id": "0WStR8NMkpG5"
      },
      "execution_count": null,
      "outputs": []
    },
    {
      "cell_type": "code",
      "source": [
        ""
      ],
      "metadata": {
        "id": "IFzj5PRDko-2"
      },
      "execution_count": null,
      "outputs": []
    },
    {
      "cell_type": "code",
      "source": [
        "outputs = base_model(outputs, training=False)\n",
        "outputs = global_average_layer(outputs)\n",
        "outputs = keras.layers.Dropout(0.5)(outputs)  \n",
        "outputs = prediction_layer(outputs)\n",
        "model = keras.Model(inputs, outputs)"
      ],
      "metadata": {
        "id": "BULFT5JdAy-L"
      },
      "execution_count": null,
      "outputs": []
    },
    {
      "cell_type": "code",
      "source": [
        "model.compile(optimizer=tf.keras.optimizers.Adam(learning_rate=0.0001), loss=tf.keras.losses.sparse_categorical_crossentropy,metrics=keras.metrics.BinaryAccuracy())\n"
      ],
      "metadata": {
        "id": "nf5CIsGEkxNF"
      },
      "execution_count": null,
      "outputs": []
    },
    {
      "cell_type": "code",
      "source": [
        "model.summary()"
      ],
      "metadata": {
        "id": "Bvlj2O9dkx2e"
      },
      "execution_count": null,
      "outputs": []
    },
    {
      "cell_type": "markdown",
      "source": [
        "# Train the model"
      ],
      "metadata": {
        "id": "GHKQea5Vw70e"
      }
    },
    {
      "cell_type": "markdown",
      "source": [
        "train the top layer\n",
        "accuracy starts high coz pre trained model\n",
        "adjust the epochs learning rate here"
      ],
      "metadata": {
        "id": "ND3gsvjmw98q"
      }
    },
    {
      "cell_type": "markdown",
      "source": [
        "initial accuracy check"
      ],
      "metadata": {
        "id": "eCoy55pMk6SF"
      }
    },
    {
      "cell_type": "code",
      "source": [
        "loss0, accuracy0 = model.evaluate(val_ds)"
      ],
      "metadata": {
        "id": "2dXeimrVk12N"
      },
      "execution_count": null,
      "outputs": []
    },
    {
      "cell_type": "code",
      "source": [
        "history = model.fit(train_ds, epochs=50, validation_data=val_ds)"
      ],
      "metadata": {
        "colab": {
          "base_uri": "https://localhost:8080/"
        },
        "id": "LcK-K-usAzAv",
        "outputId": "f896bd7a-dd37-4493-865d-fb0e815f4f7e"
      },
      "execution_count": null,
      "outputs": [
        {
          "output_type": "stream",
          "name": "stdout",
          "text": [
            "Epoch 1/20\n",
            "4/4 [==============================] - 26s 2s/step - loss: 0.6637 - binary_accuracy: 0.6035 - val_loss: 0.6123 - val_binary_accuracy: 0.6060\n",
            "Epoch 2/20\n",
            "4/4 [==============================] - 6s 1s/step - loss: 0.6569 - binary_accuracy: 0.6045 - val_loss: 0.5855 - val_binary_accuracy: 0.6190\n",
            "Epoch 3/20\n",
            "4/4 [==============================] - 6s 1s/step - loss: 0.6248 - binary_accuracy: 0.6270 - val_loss: 0.5615 - val_binary_accuracy: 0.6350\n",
            "Epoch 4/20\n",
            "4/4 [==============================] - 6s 1s/step - loss: 0.5993 - binary_accuracy: 0.6520 - val_loss: 0.5400 - val_binary_accuracy: 0.6460\n",
            "Epoch 5/20\n",
            "4/4 [==============================] - 6s 1s/step - loss: 0.5991 - binary_accuracy: 0.6545 - val_loss: 0.5206 - val_binary_accuracy: 0.6590\n",
            "Epoch 6/20\n",
            "4/4 [==============================] - 6s 1s/step - loss: 0.5719 - binary_accuracy: 0.6580 - val_loss: 0.5026 - val_binary_accuracy: 0.6730\n",
            "Epoch 7/20\n",
            "4/4 [==============================] - 6s 1s/step - loss: 0.5599 - binary_accuracy: 0.6645 - val_loss: 0.4860 - val_binary_accuracy: 0.6990\n",
            "Epoch 8/20\n",
            "4/4 [==============================] - 6s 1s/step - loss: 0.5408 - binary_accuracy: 0.6985 - val_loss: 0.4704 - val_binary_accuracy: 0.7130\n",
            "Epoch 9/20\n",
            "4/4 [==============================] - 6s 1s/step - loss: 0.5215 - binary_accuracy: 0.7050 - val_loss: 0.4559 - val_binary_accuracy: 0.7230\n",
            "Epoch 10/20\n",
            "4/4 [==============================] - 6s 1s/step - loss: 0.5054 - binary_accuracy: 0.7100 - val_loss: 0.4420 - val_binary_accuracy: 0.7370\n",
            "Epoch 11/20\n",
            "4/4 [==============================] - 6s 1s/step - loss: 0.4956 - binary_accuracy: 0.7270 - val_loss: 0.4289 - val_binary_accuracy: 0.7540\n",
            "Epoch 12/20\n",
            "4/4 [==============================] - 6s 1s/step - loss: 0.4821 - binary_accuracy: 0.7335 - val_loss: 0.4163 - val_binary_accuracy: 0.7650\n",
            "Epoch 13/20\n",
            "4/4 [==============================] - 6s 1s/step - loss: 0.4616 - binary_accuracy: 0.7515 - val_loss: 0.4044 - val_binary_accuracy: 0.7760\n",
            "Epoch 14/20\n",
            "4/4 [==============================] - 6s 1s/step - loss: 0.4482 - binary_accuracy: 0.7635 - val_loss: 0.3931 - val_binary_accuracy: 0.7850\n",
            "Epoch 15/20\n",
            "4/4 [==============================] - 6s 1s/step - loss: 0.4409 - binary_accuracy: 0.7745 - val_loss: 0.3822 - val_binary_accuracy: 0.7930\n",
            "Epoch 16/20\n",
            "4/4 [==============================] - 6s 1s/step - loss: 0.4298 - binary_accuracy: 0.7780 - val_loss: 0.3717 - val_binary_accuracy: 0.8040\n",
            "Epoch 17/20\n",
            "4/4 [==============================] - 6s 1s/step - loss: 0.4238 - binary_accuracy: 0.7780 - val_loss: 0.3616 - val_binary_accuracy: 0.8140\n",
            "Epoch 18/20\n",
            "4/4 [==============================] - 6s 1s/step - loss: 0.4114 - binary_accuracy: 0.7880 - val_loss: 0.3518 - val_binary_accuracy: 0.8270\n",
            "Epoch 19/20\n",
            "4/4 [==============================] - 6s 1s/step - loss: 0.4030 - binary_accuracy: 0.8055 - val_loss: 0.3425 - val_binary_accuracy: 0.8360\n",
            "Epoch 20/20\n",
            "4/4 [==============================] - 6s 1s/step - loss: 0.3933 - binary_accuracy: 0.7945 - val_loss: 0.3336 - val_binary_accuracy: 0.8440\n"
          ]
        }
      ]
    },
    {
      "cell_type": "markdown",
      "source": [
        "testing confus matrix\n"
      ],
      "metadata": {
        "id": "QvucVnvsDQlW"
      }
    },
    {
      "cell_type": "code",
      "source": [
        "y_pred = model.predict(val_ds)\n",
        "\n",
        "y_pred"
      ],
      "metadata": {
        "colab": {
          "base_uri": "https://localhost:8080/"
        },
        "id": "jkFcva-ZDQU7",
        "outputId": "7ead1924-d4cd-4b4a-cff5-3d331e99d42d"
      },
      "execution_count": null,
      "outputs": [
        {
          "output_type": "execute_result",
          "data": {
            "text/plain": [
              "array([[-8.3788067e-01],\n",
              "       [ 5.1813936e-01],\n",
              "       [-2.3731692e+00],\n",
              "       [-2.6287225e-01],\n",
              "       [ 1.1672027e+00],\n",
              "       [ 8.9357591e-01],\n",
              "       [ 8.5132819e-01],\n",
              "       [-1.0383384e+00],\n",
              "       [-1.4571587e+00],\n",
              "       [ 1.8570966e+00],\n",
              "       [ 5.6842935e-01],\n",
              "       [ 1.1212797e+00],\n",
              "       [-2.8532705e+00],\n",
              "       [-2.7145660e+00],\n",
              "       [ 1.4238442e+00],\n",
              "       [-2.4175034e+00],\n",
              "       [-2.0849640e+00],\n",
              "       [-2.5579410e+00],\n",
              "       [-9.6461898e-01],\n",
              "       [ 1.3371340e+00],\n",
              "       [ 1.4002873e+00],\n",
              "       [ 1.5172795e+00],\n",
              "       [-1.7659622e+00],\n",
              "       [ 3.1561413e-01],\n",
              "       [-1.7918842e+00],\n",
              "       [ 8.2511467e-01],\n",
              "       [ 9.2633706e-01],\n",
              "       [ 2.4738417e+00],\n",
              "       [ 3.2829633e-01],\n",
              "       [-1.9572945e+00],\n",
              "       [-3.4575069e-01],\n",
              "       [-1.5290214e-01],\n",
              "       [-5.2916938e-01],\n",
              "       [-1.9859804e-01],\n",
              "       [-3.0188589e+00],\n",
              "       [-1.5758433e+00],\n",
              "       [-1.3448572e+00],\n",
              "       [-9.3669021e-01],\n",
              "       [ 1.1567308e+00],\n",
              "       [ 2.2009530e+00],\n",
              "       [ 6.8479955e-01],\n",
              "       [-2.8094563e+00],\n",
              "       [-1.7546233e+00],\n",
              "       [-1.9991158e+00],\n",
              "       [-4.0145865e-01],\n",
              "       [ 8.0119199e-01],\n",
              "       [ 8.4256679e-01],\n",
              "       [-2.4567478e+00],\n",
              "       [ 3.8165095e+00],\n",
              "       [-1.1443367e+00],\n",
              "       [-2.6536896e+00],\n",
              "       [-1.4528733e+00],\n",
              "       [-2.5478158e+00],\n",
              "       [-4.5691508e-01],\n",
              "       [ 1.3143663e+00],\n",
              "       [ 9.2014009e-01],\n",
              "       [-1.1140780e+00],\n",
              "       [-4.4968459e-01],\n",
              "       [ 2.0077646e+00],\n",
              "       [-8.5857213e-01],\n",
              "       [-9.0518808e-01],\n",
              "       [ 6.0863560e-01],\n",
              "       [-2.2531149e+00],\n",
              "       [-8.5567653e-01],\n",
              "       [-5.4915223e-02],\n",
              "       [-6.8161339e-01],\n",
              "       [ 2.5751915e+00],\n",
              "       [ 1.8968701e-01],\n",
              "       [ 1.6474420e+00],\n",
              "       [-1.1496031e+00],\n",
              "       [ 1.3848031e+00],\n",
              "       [-7.7828258e-01],\n",
              "       [ 8.9270788e-01],\n",
              "       [-1.9700860e+00],\n",
              "       [-1.4006227e+00],\n",
              "       [-2.9647405e+00],\n",
              "       [-2.4183645e+00],\n",
              "       [-1.3463844e+00],\n",
              "       [ 2.8396707e+00],\n",
              "       [-2.9908469e-01],\n",
              "       [ 1.4156988e+00],\n",
              "       [-1.5024103e+00],\n",
              "       [ 3.3956644e-01],\n",
              "       [ 5.0535339e-01],\n",
              "       [-1.7563599e+00],\n",
              "       [-1.4912293e+00],\n",
              "       [-8.6636436e-01],\n",
              "       [-3.3439062e+00],\n",
              "       [-2.0512736e+00],\n",
              "       [-1.0948125e+00],\n",
              "       [-2.4325628e+00],\n",
              "       [-1.4900413e+00],\n",
              "       [-1.1969752e+00],\n",
              "       [ 1.8045514e+00],\n",
              "       [-3.0147512e-02],\n",
              "       [ 1.2381790e+00],\n",
              "       [-1.2169718e+00],\n",
              "       [ 4.8538610e-01],\n",
              "       [ 2.7236500e-01],\n",
              "       [-1.3289607e+00],\n",
              "       [ 9.8579422e-02],\n",
              "       [-5.4190594e-01],\n",
              "       [-2.6258111e+00],\n",
              "       [-2.3881958e+00],\n",
              "       [ 9.6441096e-01],\n",
              "       [-1.4438888e+00],\n",
              "       [ 1.7889096e+00],\n",
              "       [-9.3696338e-01],\n",
              "       [-2.3059015e+00],\n",
              "       [ 6.7182720e-01],\n",
              "       [ 1.0360185e+00],\n",
              "       [-1.5047470e+00],\n",
              "       [ 5.8378869e-01],\n",
              "       [-1.1552256e+00],\n",
              "       [-2.8969314e+00],\n",
              "       [-1.0701610e+00],\n",
              "       [-2.2075040e+00],\n",
              "       [-1.2110537e+00],\n",
              "       [ 1.0077020e+00],\n",
              "       [-1.2298191e+00],\n",
              "       [-7.6443061e-02],\n",
              "       [ 1.3923887e+00],\n",
              "       [ 5.7949901e-01],\n",
              "       [-1.2353930e+00],\n",
              "       [ 1.0441935e+00],\n",
              "       [ 1.3280152e-01],\n",
              "       [-1.6207811e+00],\n",
              "       [ 3.0351746e+00],\n",
              "       [ 4.7984281e-01],\n",
              "       [-7.6262343e-01],\n",
              "       [ 8.0420709e-01],\n",
              "       [ 1.8180026e+00],\n",
              "       [ 1.0105686e+00],\n",
              "       [ 1.6108476e+00],\n",
              "       [ 1.3163493e+00],\n",
              "       [-2.7543426e+00],\n",
              "       [-6.0216361e-01],\n",
              "       [-1.2921538e+00],\n",
              "       [-1.7235585e+00],\n",
              "       [ 1.4337168e+00],\n",
              "       [ 2.3116088e+00],\n",
              "       [-7.9581445e-01],\n",
              "       [-1.3587197e+00],\n",
              "       [-2.2018673e+00],\n",
              "       [ 2.9090086e-01],\n",
              "       [ 3.3642867e-01],\n",
              "       [ 2.1882155e+00],\n",
              "       [ 1.0575910e+00],\n",
              "       [ 1.5466111e+00],\n",
              "       [ 7.3324913e-01],\n",
              "       [ 9.8817974e-01],\n",
              "       [-1.7744966e+00],\n",
              "       [-6.8076956e-01],\n",
              "       [ 6.7648220e-01],\n",
              "       [-3.9534020e+00],\n",
              "       [ 1.8404428e+00],\n",
              "       [-2.8544543e+00],\n",
              "       [-2.8714974e+00],\n",
              "       [-1.5192884e+00],\n",
              "       [-1.1553222e+00],\n",
              "       [-1.1741126e+00],\n",
              "       [ 1.6869832e-02],\n",
              "       [ 5.3941542e-01],\n",
              "       [ 7.6207590e-01],\n",
              "       [-1.0032061e+00],\n",
              "       [-2.0705547e+00],\n",
              "       [-1.0011744e+00],\n",
              "       [ 2.8672615e-01],\n",
              "       [-1.8260030e+00],\n",
              "       [-1.7551656e+00],\n",
              "       [ 7.1684521e-01],\n",
              "       [ 3.4708931e+00],\n",
              "       [ 6.5856093e-01],\n",
              "       [-3.3114355e+00],\n",
              "       [-1.3906947e+00],\n",
              "       [-2.4859784e+00],\n",
              "       [-2.0464029e+00],\n",
              "       [ 1.4377168e+00],\n",
              "       [ 4.5952186e-01],\n",
              "       [-2.0647099e+00],\n",
              "       [-2.7375038e+00],\n",
              "       [ 1.0934145e+00],\n",
              "       [-1.8044809e+00],\n",
              "       [ 1.3521003e+00],\n",
              "       [ 1.1933888e+00],\n",
              "       [ 9.8503524e-01],\n",
              "       [ 3.9073434e-01],\n",
              "       [-1.3305873e-01],\n",
              "       [-1.2398604e+00],\n",
              "       [ 1.5186191e-01],\n",
              "       [-2.0949500e+00],\n",
              "       [ 7.8942561e-01],\n",
              "       [-3.9438072e-01],\n",
              "       [-5.0595585e-02],\n",
              "       [ 5.7031125e-01],\n",
              "       [ 3.6376497e-01],\n",
              "       [-5.0293535e-01],\n",
              "       [ 9.1175538e-01],\n",
              "       [ 1.2397091e+00],\n",
              "       [ 9.6427387e-01],\n",
              "       [ 2.2382793e+00],\n",
              "       [-1.7667277e+00],\n",
              "       [-1.6861101e+00],\n",
              "       [-1.2810066e+00],\n",
              "       [-3.2206740e+00],\n",
              "       [ 6.3230538e-01],\n",
              "       [-2.1397545e+00],\n",
              "       [ 3.4349588e-01],\n",
              "       [-6.5070525e-02],\n",
              "       [-3.9687780e-01],\n",
              "       [-1.0591689e+00],\n",
              "       [-2.9462993e+00],\n",
              "       [-1.4137243e-01],\n",
              "       [ 2.6431027e-01],\n",
              "       [-1.9816771e+00],\n",
              "       [-2.0946655e+00],\n",
              "       [ 4.0037563e-01],\n",
              "       [ 1.3061937e+00],\n",
              "       [ 2.2900763e+00],\n",
              "       [ 6.0659665e-01],\n",
              "       [-1.6416548e-01],\n",
              "       [-1.3239726e+00],\n",
              "       [-9.4941884e-01],\n",
              "       [ 1.7384819e+00],\n",
              "       [ 7.2238940e-01],\n",
              "       [ 2.8697267e-01],\n",
              "       [ 9.3791509e-01],\n",
              "       [ 2.1765718e+00],\n",
              "       [-2.0770240e+00],\n",
              "       [-1.2819692e+00],\n",
              "       [-1.9076846e+00],\n",
              "       [ 1.2163836e+00],\n",
              "       [-1.5697931e+00],\n",
              "       [ 6.9361699e-01],\n",
              "       [-2.0047845e-01],\n",
              "       [-1.7549527e+00],\n",
              "       [ 1.3475709e+00],\n",
              "       [-1.9168987e+00],\n",
              "       [ 5.9043962e-01],\n",
              "       [-1.6662310e+00],\n",
              "       [-2.0769391e+00],\n",
              "       [ 5.0634265e-01],\n",
              "       [ 2.1138046e+00],\n",
              "       [ 9.0286529e-01],\n",
              "       [-3.5156329e+00],\n",
              "       [-1.2385876e+00],\n",
              "       [ 2.3085961e+00],\n",
              "       [ 8.8796645e-01],\n",
              "       [-1.8838801e+00],\n",
              "       [-2.6315329e+00],\n",
              "       [-4.4287652e-01],\n",
              "       [ 1.9884740e-01],\n",
              "       [ 3.5707701e-02],\n",
              "       [-2.1758897e+00],\n",
              "       [-1.3366171e+00],\n",
              "       [-2.5856886e+00],\n",
              "       [ 1.7946061e+00],\n",
              "       [-4.9467906e-01],\n",
              "       [ 2.5415487e+00],\n",
              "       [ 1.2263404e+00],\n",
              "       [ 3.4303576e-01],\n",
              "       [-1.8613601e+00],\n",
              "       [ 4.5852038e-01],\n",
              "       [-1.7791272e+00],\n",
              "       [ 5.9948826e-01],\n",
              "       [-1.1479821e+00],\n",
              "       [-2.1993136e+00],\n",
              "       [ 9.3843895e-01],\n",
              "       [ 1.2962323e+00],\n",
              "       [-2.7677653e+00],\n",
              "       [-2.6017842e+00],\n",
              "       [ 1.5727946e+00],\n",
              "       [ 2.3815316e-01],\n",
              "       [ 6.0242730e-01],\n",
              "       [ 2.9016319e-01],\n",
              "       [-7.8700882e-01],\n",
              "       [ 8.7951463e-01],\n",
              "       [-2.3546934e-01],\n",
              "       [-3.3293733e-01],\n",
              "       [-1.3304265e-01],\n",
              "       [ 1.1960890e+00],\n",
              "       [ 1.9868494e+00],\n",
              "       [ 1.5102559e+00],\n",
              "       [-2.6705174e+00],\n",
              "       [-1.4767948e+00],\n",
              "       [-1.5795289e+00],\n",
              "       [ 1.8740224e+00],\n",
              "       [ 1.9033377e+00],\n",
              "       [-9.5569485e-01],\n",
              "       [ 6.6388649e-01],\n",
              "       [-2.7408342e+00],\n",
              "       [ 6.5236419e-01],\n",
              "       [-7.0473927e-01],\n",
              "       [ 3.8036475e-01],\n",
              "       [-2.5258067e+00],\n",
              "       [ 1.3124206e+00],\n",
              "       [-1.6011553e+00],\n",
              "       [ 7.1881878e-01],\n",
              "       [-1.9546477e+00],\n",
              "       [-2.2898271e+00],\n",
              "       [ 1.3243395e+00],\n",
              "       [ 2.7550991e+00],\n",
              "       [-2.9359131e+00],\n",
              "       [-3.1041481e+00],\n",
              "       [ 3.1833959e-01],\n",
              "       [ 1.8251395e+00],\n",
              "       [-1.6848557e+00],\n",
              "       [ 9.1763979e-01],\n",
              "       [-8.6471570e-01],\n",
              "       [-2.8665322e-03],\n",
              "       [-1.9660628e+00],\n",
              "       [-3.8064530e-01],\n",
              "       [-2.2052312e+00],\n",
              "       [-3.2003386e+00],\n",
              "       [-1.6338936e+00],\n",
              "       [ 5.6909287e-01],\n",
              "       [-1.6744604e+00],\n",
              "       [-4.9712446e-01],\n",
              "       [-3.0903862e+00],\n",
              "       [ 2.1143088e+00],\n",
              "       [ 8.4160763e-01],\n",
              "       [ 1.0803547e+00],\n",
              "       [-2.3367655e+00],\n",
              "       [-2.0568941e+00],\n",
              "       [-2.4848435e+00],\n",
              "       [-1.0551533e+00],\n",
              "       [ 1.0184616e+00],\n",
              "       [-4.9761610e+00],\n",
              "       [ 1.7272633e-02],\n",
              "       [-1.8039127e-01],\n",
              "       [ 1.7699758e+00],\n",
              "       [-2.4875705e+00],\n",
              "       [-8.0387950e-01],\n",
              "       [-1.2652587e+00],\n",
              "       [ 1.1452535e+00],\n",
              "       [ 9.7002429e-01],\n",
              "       [ 2.5248263e+00],\n",
              "       [ 1.2136184e+00],\n",
              "       [-1.6399274e+00],\n",
              "       [ 1.9879340e+00],\n",
              "       [-1.8436863e+00],\n",
              "       [ 1.9397863e+00],\n",
              "       [ 9.9968451e-01],\n",
              "       [ 1.6161021e+00],\n",
              "       [ 2.1390674e+00],\n",
              "       [-1.3597122e+00],\n",
              "       [-1.8594485e-02],\n",
              "       [-9.8006487e-01],\n",
              "       [-4.8165110e-01],\n",
              "       [-2.1972075e+00],\n",
              "       [-1.3387336e+00],\n",
              "       [-5.9947944e-01],\n",
              "       [ 2.2899311e+00],\n",
              "       [-1.8405167e+00],\n",
              "       [-7.5477171e-01],\n",
              "       [ 1.4546846e-01],\n",
              "       [ 2.4866371e+00],\n",
              "       [ 1.8953555e+00],\n",
              "       [-1.1931961e+00],\n",
              "       [-9.4365686e-02],\n",
              "       [-2.4311125e+00],\n",
              "       [ 8.8569677e-01],\n",
              "       [-1.3440217e-01],\n",
              "       [ 1.2184476e+00],\n",
              "       [-1.3215997e+00],\n",
              "       [-9.6236503e-01],\n",
              "       [ 9.8521835e-01],\n",
              "       [-3.4138140e-01],\n",
              "       [-2.0488710e+00],\n",
              "       [ 7.4661809e-01],\n",
              "       [ 8.1806087e-01],\n",
              "       [-2.3443139e+00],\n",
              "       [ 5.8704162e-01],\n",
              "       [-2.4900260e+00],\n",
              "       [ 3.7143245e-01],\n",
              "       [ 1.0268818e+00],\n",
              "       [ 5.0158656e-01],\n",
              "       [-2.2322972e+00],\n",
              "       [-2.1430061e+00],\n",
              "       [-2.6058862e+00],\n",
              "       [-4.8586285e-01],\n",
              "       [ 1.7171783e+00],\n",
              "       [-2.3364670e+00],\n",
              "       [-3.2555184e+00],\n",
              "       [-1.1654049e+00],\n",
              "       [-1.3066020e+00],\n",
              "       [ 8.0622798e-01],\n",
              "       [-4.9541302e+00],\n",
              "       [-1.5357107e+00],\n",
              "       [ 2.3808136e+00],\n",
              "       [ 9.9969977e-01],\n",
              "       [-1.0588821e+00],\n",
              "       [ 1.0408241e+00],\n",
              "       [-3.0124965e+00],\n",
              "       [-1.6865199e+00],\n",
              "       [ 1.6134619e+00],\n",
              "       [ 1.6868593e+00],\n",
              "       [-3.1433461e+00],\n",
              "       [ 1.3816513e+00],\n",
              "       [ 7.2220182e-01],\n",
              "       [-1.6900201e+00],\n",
              "       [-4.0787554e-01],\n",
              "       [ 1.2161968e+00],\n",
              "       [-1.1901827e+00],\n",
              "       [-2.3362939e+00],\n",
              "       [ 1.0511827e-02],\n",
              "       [-9.6194917e-01],\n",
              "       [-9.6979994e-01],\n",
              "       [-3.9172834e-01],\n",
              "       [-3.7756901e+00],\n",
              "       [-1.1902264e+00],\n",
              "       [-1.7776058e+00],\n",
              "       [ 1.7402980e+00],\n",
              "       [-1.6687294e+00],\n",
              "       [ 1.7143381e+00],\n",
              "       [ 1.1179744e+00],\n",
              "       [ 1.0712572e+00],\n",
              "       [ 8.2625166e-02],\n",
              "       [-6.9589657e-01],\n",
              "       [-1.6133419e+00],\n",
              "       [-8.2505159e-02],\n",
              "       [ 4.6690050e-01],\n",
              "       [ 1.4216210e+00],\n",
              "       [ 1.8980913e-01],\n",
              "       [ 6.2801486e-01],\n",
              "       [-1.5929936e+00],\n",
              "       [-1.4792439e+00],\n",
              "       [ 2.6186392e+00],\n",
              "       [-2.5656063e-02],\n",
              "       [-4.6194646e-01],\n",
              "       [-2.2434244e+00],\n",
              "       [ 1.0393814e+00],\n",
              "       [ 1.2438217e+00],\n",
              "       [ 1.3577156e-01],\n",
              "       [-5.6654161e-01],\n",
              "       [-5.0627249e-01],\n",
              "       [ 5.1943797e-01],\n",
              "       [ 4.7184506e-01],\n",
              "       [-2.3907373e+00],\n",
              "       [-1.4687415e+00],\n",
              "       [-3.3363335e+00],\n",
              "       [-2.1102602e+00],\n",
              "       [ 1.1334186e+00],\n",
              "       [-1.3473134e-01],\n",
              "       [-2.0212443e+00],\n",
              "       [-1.7336231e+00],\n",
              "       [ 4.5345533e-01],\n",
              "       [-2.1480982e+00],\n",
              "       [ 1.4058033e-01],\n",
              "       [-3.4915149e+00],\n",
              "       [-1.9521774e+00],\n",
              "       [-1.0666828e+00],\n",
              "       [-2.3142393e+00],\n",
              "       [ 1.5335604e+00],\n",
              "       [-3.4974700e-01],\n",
              "       [ 5.5638230e-01],\n",
              "       [-2.0312026e+00],\n",
              "       [ 4.6104243e-01],\n",
              "       [-1.7463623e+00],\n",
              "       [ 1.6335480e+00],\n",
              "       [-2.4991431e+00],\n",
              "       [ 2.2505608e+00],\n",
              "       [ 5.3925842e-01],\n",
              "       [-2.6806345e+00],\n",
              "       [-3.8279167e-01],\n",
              "       [ 1.4075457e+00],\n",
              "       [ 6.2865269e-01],\n",
              "       [-3.6301304e-02],\n",
              "       [ 8.9685744e-01],\n",
              "       [-1.4530901e+00],\n",
              "       [ 1.0555009e+00],\n",
              "       [-1.2518008e+00],\n",
              "       [-1.0617713e+00],\n",
              "       [ 1.3785729e+00],\n",
              "       [ 2.1978769e+00],\n",
              "       [ 2.4268775e+00],\n",
              "       [ 8.9860481e-01],\n",
              "       [-9.6490788e-01],\n",
              "       [-5.9465487e-02],\n",
              "       [ 1.9382845e+00],\n",
              "       [ 1.6069634e+00],\n",
              "       [ 9.3540180e-01],\n",
              "       [ 1.2815515e+00],\n",
              "       [-2.5970414e+00],\n",
              "       [-5.9785217e-01],\n",
              "       [-1.6601509e+00],\n",
              "       [ 5.6484002e-01],\n",
              "       [ 6.1559421e-01],\n",
              "       [ 1.8976234e+00],\n",
              "       [ 8.9155883e-01],\n",
              "       [-1.7567751e+00],\n",
              "       [ 1.0343980e+00],\n",
              "       [ 1.5788075e+00],\n",
              "       [ 2.1843936e+00],\n",
              "       [-2.8903775e+00],\n",
              "       [ 3.7560350e-01],\n",
              "       [-2.1559429e+00],\n",
              "       [ 9.0247446e-01],\n",
              "       [-1.7863803e+00],\n",
              "       [ 2.2148269e-01],\n",
              "       [ 1.1276892e+00],\n",
              "       [ 2.8404109e+00],\n",
              "       [ 1.0254387e+00],\n",
              "       [-1.2909318e+00],\n",
              "       [-2.4242463e+00],\n",
              "       [ 3.3548766e-01],\n",
              "       [-1.6694536e+00],\n",
              "       [-2.4321099e-01],\n",
              "       [-1.2847019e+00],\n",
              "       [ 2.6570821e+00],\n",
              "       [-5.5912626e-01],\n",
              "       [ 1.8484356e+00],\n",
              "       [-1.6995196e+00],\n",
              "       [-1.0902125e+00],\n",
              "       [ 2.5236383e-01],\n",
              "       [ 1.1435158e+00],\n",
              "       [ 1.2397021e+00],\n",
              "       [ 2.9907954e+00],\n",
              "       [-1.5558398e-01],\n",
              "       [ 8.2585758e-01],\n",
              "       [-1.1795995e+00],\n",
              "       [ 1.3095917e+00],\n",
              "       [ 1.3939975e-01],\n",
              "       [-2.1334772e+00],\n",
              "       [-1.9755889e+00],\n",
              "       [ 1.3431103e+00],\n",
              "       [-1.2536064e+00],\n",
              "       [ 1.3937557e+00],\n",
              "       [-2.7891524e+00],\n",
              "       [ 2.0972419e+00],\n",
              "       [-1.9600679e+00],\n",
              "       [-2.1800406e+00],\n",
              "       [ 5.9140134e-01],\n",
              "       [-1.4875547e+00],\n",
              "       [ 6.5790850e-01],\n",
              "       [-3.1104925e+00],\n",
              "       [-1.8978350e+00],\n",
              "       [-3.3229063e+00],\n",
              "       [-1.6621946e+00],\n",
              "       [-8.3952492e-01],\n",
              "       [-1.0150267e+00],\n",
              "       [-9.6885934e-02],\n",
              "       [-2.6471353e+00],\n",
              "       [-1.3425721e+00],\n",
              "       [-1.2242187e+00],\n",
              "       [-2.1992188e+00],\n",
              "       [ 1.3739845e-01],\n",
              "       [-1.1554831e+00],\n",
              "       [ 1.4398947e+00],\n",
              "       [ 8.9182198e-01],\n",
              "       [ 5.9331208e-01],\n",
              "       [ 9.6288335e-01],\n",
              "       [ 6.3470811e-01],\n",
              "       [-2.2315552e+00],\n",
              "       [-1.4303194e+00],\n",
              "       [ 2.1408322e+00],\n",
              "       [-8.9884949e-01],\n",
              "       [ 1.6095457e+00],\n",
              "       [ 5.8722162e-01],\n",
              "       [ 5.8987439e-01],\n",
              "       [-7.2650260e-01],\n",
              "       [-1.9507967e+00],\n",
              "       [ 1.6928066e+00],\n",
              "       [-3.4425203e-02],\n",
              "       [-2.7902095e+00],\n",
              "       [-2.4241257e+00],\n",
              "       [ 4.9332583e-01],\n",
              "       [ 1.5985829e+00],\n",
              "       [ 2.3138534e-02],\n",
              "       [-1.2646352e+00],\n",
              "       [ 1.0829191e+00],\n",
              "       [-2.3306746e+00],\n",
              "       [ 6.5537935e-01],\n",
              "       [ 3.0943377e+00],\n",
              "       [-2.7560880e+00],\n",
              "       [-2.8054855e+00],\n",
              "       [-1.5325756e+00],\n",
              "       [-2.9061823e+00],\n",
              "       [-1.9503533e+00],\n",
              "       [-1.2012409e+00],\n",
              "       [ 8.4658015e-01],\n",
              "       [ 2.4967773e+00],\n",
              "       [-2.7926841e+00],\n",
              "       [-2.1291375e+00],\n",
              "       [ 6.2452346e-01],\n",
              "       [-6.8454462e-01],\n",
              "       [ 1.9532457e-01],\n",
              "       [-3.1205404e+00],\n",
              "       [ 1.0730140e+00],\n",
              "       [ 1.5612006e+00],\n",
              "       [ 9.7433555e-01],\n",
              "       [-1.2066745e+00],\n",
              "       [-2.1919338e-01],\n",
              "       [-1.0593164e+00],\n",
              "       [ 3.6288626e+00],\n",
              "       [ 2.9673010e-01],\n",
              "       [-1.0127784e+00],\n",
              "       [ 1.0720818e+00],\n",
              "       [ 2.2071254e+00],\n",
              "       [ 2.2900720e+00],\n",
              "       [ 6.1991507e-01],\n",
              "       [ 8.4422392e-01],\n",
              "       [ 1.7101572e+00],\n",
              "       [-7.2514564e-01],\n",
              "       [-1.4736289e+00],\n",
              "       [ 2.6543357e+00],\n",
              "       [-4.9550107e-01],\n",
              "       [-5.2344596e-01],\n",
              "       [-1.6683408e+00],\n",
              "       [ 1.2510312e+00],\n",
              "       [ 1.1104908e+00],\n",
              "       [-1.7450942e+00],\n",
              "       [-1.6200906e+00],\n",
              "       [-1.5412246e+00],\n",
              "       [-2.8297687e+00],\n",
              "       [-6.6490448e-01],\n",
              "       [-3.6481791e+00],\n",
              "       [-1.6384677e+00],\n",
              "       [-7.7298239e-02],\n",
              "       [-7.9827949e-02],\n",
              "       [-2.3600268e+00],\n",
              "       [-1.1398964e+00],\n",
              "       [-3.1488578e+00],\n",
              "       [ 1.9287528e+00],\n",
              "       [-9.2350811e-01],\n",
              "       [-2.5940180e+00],\n",
              "       [ 1.2690569e+00],\n",
              "       [ 2.3872821e+00],\n",
              "       [-1.1720153e+00],\n",
              "       [-1.6796548e+00],\n",
              "       [-1.9563500e+00],\n",
              "       [-1.9759058e+00],\n",
              "       [ 3.6298563e+00],\n",
              "       [-1.9427229e+00],\n",
              "       [ 1.8465323e+00],\n",
              "       [ 5.9207481e-01],\n",
              "       [ 4.8444575e-01],\n",
              "       [-3.0299628e+00],\n",
              "       [-2.6607008e+00],\n",
              "       [-2.2881362e+00],\n",
              "       [-9.9944025e-01],\n",
              "       [ 1.6449175e+00],\n",
              "       [-2.4223533e+00],\n",
              "       [ 1.7268002e+00],\n",
              "       [ 7.2052103e-01],\n",
              "       [ 1.3031223e-01],\n",
              "       [-3.2884457e+00],\n",
              "       [-2.0284770e+00],\n",
              "       [ 1.1992834e+00],\n",
              "       [-4.0866914e-03],\n",
              "       [-2.0872705e+00],\n",
              "       [-4.0537718e-01],\n",
              "       [ 1.5055026e+00],\n",
              "       [-1.3885510e+00],\n",
              "       [ 6.1895692e-01],\n",
              "       [ 1.1290903e+00],\n",
              "       [-1.1645786e+00],\n",
              "       [-6.1731371e-03],\n",
              "       [-2.8359289e+00],\n",
              "       [ 7.7387875e-01],\n",
              "       [ 1.5776196e+00],\n",
              "       [-2.7776682e+00],\n",
              "       [-1.2901741e+00],\n",
              "       [-4.2695084e-01],\n",
              "       [ 4.1764849e-01],\n",
              "       [ 2.1293077e+00],\n",
              "       [-2.0131083e+00],\n",
              "       [ 1.3126355e+00],\n",
              "       [-9.7848386e-01],\n",
              "       [ 3.9939490e-01],\n",
              "       [-2.1512439e+00],\n",
              "       [ 1.3085345e+00],\n",
              "       [-6.6024858e-01],\n",
              "       [-2.5539148e+00],\n",
              "       [ 1.2468219e+00],\n",
              "       [ 1.7883668e+00],\n",
              "       [-6.2601113e-01],\n",
              "       [ 2.3180246e-01],\n",
              "       [ 1.3053373e+00],\n",
              "       [-5.7539660e-01],\n",
              "       [-1.8951440e+00],\n",
              "       [ 1.4885113e+00],\n",
              "       [-3.3977649e+00],\n",
              "       [-4.0570416e+00],\n",
              "       [ 1.8810101e+00],\n",
              "       [-1.9413163e-01],\n",
              "       [-5.2741623e-01],\n",
              "       [-2.9720843e+00],\n",
              "       [-7.1891624e-01],\n",
              "       [ 1.3142834e+00],\n",
              "       [-2.9722729e+00],\n",
              "       [ 7.8020942e-01],\n",
              "       [ 2.8594890e-01],\n",
              "       [-1.7213832e+00],\n",
              "       [ 1.3258796e+00],\n",
              "       [ 1.4367405e+00],\n",
              "       [-1.0381606e+00],\n",
              "       [-1.1333272e+00],\n",
              "       [ 2.3737266e+00],\n",
              "       [ 1.9903132e+00],\n",
              "       [-1.8559089e+00],\n",
              "       [ 2.4150341e+00],\n",
              "       [-3.1240957e+00],\n",
              "       [ 3.1314108e-01],\n",
              "       [-2.6206832e+00],\n",
              "       [ 1.4375628e+00],\n",
              "       [ 1.1754040e+00],\n",
              "       [ 6.0680419e-01],\n",
              "       [ 1.0458114e+00],\n",
              "       [ 2.5859919e-01],\n",
              "       [ 5.5736846e-01],\n",
              "       [ 1.8831459e-03],\n",
              "       [ 9.2118576e-02],\n",
              "       [-9.4296372e-01],\n",
              "       [-1.3098880e+00],\n",
              "       [-1.2271558e+00],\n",
              "       [-1.8683580e+00],\n",
              "       [ 3.8543355e-01],\n",
              "       [ 1.5580216e-01],\n",
              "       [ 1.5378547e+00],\n",
              "       [ 1.0326755e+00],\n",
              "       [ 8.0298227e-01],\n",
              "       [-2.5178051e+00],\n",
              "       [-2.1566539e+00],\n",
              "       [-1.1225461e+00],\n",
              "       [-1.2717270e+00],\n",
              "       [-3.5442674e+00],\n",
              "       [-1.9131318e+00],\n",
              "       [ 4.5493373e-01],\n",
              "       [-2.2602518e+00],\n",
              "       [-1.4260895e+00],\n",
              "       [ 2.9580989e-01],\n",
              "       [ 3.0457010e+00],\n",
              "       [-1.0722810e+00],\n",
              "       [ 1.9532759e+00],\n",
              "       [-1.2651573e+00],\n",
              "       [ 1.9572096e-01],\n",
              "       [ 4.2118081e-01],\n",
              "       [-1.5529222e+00],\n",
              "       [-5.2230513e-01],\n",
              "       [-2.6959953e+00],\n",
              "       [ 7.0068848e-01],\n",
              "       [-1.2245052e+00],\n",
              "       [ 2.7287328e-01],\n",
              "       [ 9.5315194e-01],\n",
              "       [ 1.1769358e+00],\n",
              "       [ 1.4233478e+00],\n",
              "       [-2.5848753e+00],\n",
              "       [ 8.3052951e-01],\n",
              "       [-2.1602690e+00],\n",
              "       [-2.1531103e+00],\n",
              "       [-2.9219842e+00],\n",
              "       [-2.5732770e+00],\n",
              "       [ 1.8309691e+00],\n",
              "       [-1.0579944e+00],\n",
              "       [-1.7940949e+00],\n",
              "       [ 1.0453473e+00],\n",
              "       [-6.2137538e-01],\n",
              "       [-1.2738992e-01],\n",
              "       [ 2.5583625e-01],\n",
              "       [ 2.0735891e-01],\n",
              "       [ 1.2476265e+00],\n",
              "       [-2.0745611e+00],\n",
              "       [ 7.4818093e-01],\n",
              "       [ 1.7987521e+00],\n",
              "       [ 6.4458466e-01],\n",
              "       [ 1.3015786e-01],\n",
              "       [ 1.3945979e-01],\n",
              "       [-9.7093321e-03],\n",
              "       [-2.1142273e+00],\n",
              "       [-2.2522871e+00],\n",
              "       [-1.4745668e+00],\n",
              "       [-1.7297683e+00],\n",
              "       [ 3.5539016e-01],\n",
              "       [ 1.7570342e+00],\n",
              "       [ 1.9566711e+00],\n",
              "       [-2.4726193e+00],\n",
              "       [ 1.8377295e+00],\n",
              "       [-2.1084774e+00],\n",
              "       [ 1.6356400e+00],\n",
              "       [ 7.5851959e-01],\n",
              "       [ 3.0781516e-01],\n",
              "       [ 6.4099580e-01],\n",
              "       [-1.0049205e+00],\n",
              "       [-1.3698944e+00],\n",
              "       [ 2.3585329e+00],\n",
              "       [ 1.0817064e+00],\n",
              "       [-1.0574707e+00],\n",
              "       [ 9.4724584e-01],\n",
              "       [ 1.2480831e+00],\n",
              "       [ 1.6555516e+00],\n",
              "       [ 1.1116186e+00],\n",
              "       [-9.4664228e-01],\n",
              "       [-1.7105479e+00],\n",
              "       [-9.8400712e-01],\n",
              "       [-1.9191431e+00],\n",
              "       [-1.2746648e+00],\n",
              "       [ 9.3357009e-01],\n",
              "       [-1.6926947e+00],\n",
              "       [ 3.2568786e+00],\n",
              "       [-1.2809139e+00],\n",
              "       [ 3.6449262e-01],\n",
              "       [-5.0887305e-02],\n",
              "       [ 6.3933110e-01],\n",
              "       [-2.2942929e+00],\n",
              "       [ 6.6041398e-01],\n",
              "       [ 1.7797801e+00],\n",
              "       [ 1.1565140e+00],\n",
              "       [ 2.3652992e+00],\n",
              "       [ 1.9468756e-01],\n",
              "       [ 7.8555971e-01],\n",
              "       [ 7.1965933e-01],\n",
              "       [-1.1641358e+00],\n",
              "       [ 3.0305908e+00],\n",
              "       [ 1.2757815e+00],\n",
              "       [-2.1394224e+00],\n",
              "       [ 7.9407150e-01],\n",
              "       [ 1.2550111e+00],\n",
              "       [-2.5117357e+00],\n",
              "       [-2.8398731e-01],\n",
              "       [ 2.7810531e+00],\n",
              "       [-6.1800176e-01],\n",
              "       [ 7.3849803e-01],\n",
              "       [ 4.5568818e-01],\n",
              "       [ 2.0758784e+00],\n",
              "       [-2.3305604e+00],\n",
              "       [-1.6643863e+00],\n",
              "       [-1.1751126e+00],\n",
              "       [-9.3005013e-01],\n",
              "       [-1.5957085e+00],\n",
              "       [-2.7579799e+00],\n",
              "       [-6.8599510e-01],\n",
              "       [ 1.8575476e+00],\n",
              "       [-1.4284754e+00],\n",
              "       [ 9.3665975e-01],\n",
              "       [-4.9089155e-01],\n",
              "       [-3.5030779e-01],\n",
              "       [-8.6109924e-01],\n",
              "       [ 8.6914593e-01],\n",
              "       [ 1.6242353e+00],\n",
              "       [-3.0359719e+00],\n",
              "       [-1.3943537e+00],\n",
              "       [ 7.6723766e-01],\n",
              "       [ 1.6664299e+00],\n",
              "       [-1.9187528e+00],\n",
              "       [-1.1851245e+00],\n",
              "       [ 2.0358171e+00],\n",
              "       [-2.3309664e-01],\n",
              "       [-5.9831792e-01],\n",
              "       [ 4.4947580e-01],\n",
              "       [ 1.0589098e+00],\n",
              "       [-1.0634142e+00],\n",
              "       [-2.2239459e+00],\n",
              "       [-2.6019831e+00],\n",
              "       [-1.9367666e+00],\n",
              "       [-5.0682515e-01],\n",
              "       [ 7.2313726e-01],\n",
              "       [ 8.5348171e-01],\n",
              "       [ 4.5296672e-01],\n",
              "       [ 7.3366934e-01],\n",
              "       [ 8.4608239e-01],\n",
              "       [ 3.2740635e-01],\n",
              "       [-1.1416925e+00],\n",
              "       [ 8.3429557e-01],\n",
              "       [-2.8839619e+00],\n",
              "       [ 1.5537661e+00],\n",
              "       [ 1.6631955e+00],\n",
              "       [ 5.4126948e-01],\n",
              "       [-1.6759367e+00],\n",
              "       [ 1.0342379e+00],\n",
              "       [-1.8673320e+00],\n",
              "       [ 1.9248799e+00],\n",
              "       [-1.9636375e+00],\n",
              "       [-1.2614349e+00],\n",
              "       [ 2.1964531e+00],\n",
              "       [ 2.8708073e-01],\n",
              "       [ 2.4936488e+00],\n",
              "       [ 7.8684676e-01],\n",
              "       [-1.5935583e+00],\n",
              "       [ 1.4270164e+00],\n",
              "       [-1.7688174e+00],\n",
              "       [ 7.9775900e-01],\n",
              "       [ 1.3688013e-01],\n",
              "       [-1.8364191e+00],\n",
              "       [-3.5559055e-01],\n",
              "       [ 6.4984292e-01],\n",
              "       [-3.6013517e+00],\n",
              "       [ 1.5687530e+00],\n",
              "       [-3.5113162e-01],\n",
              "       [ 1.8970268e+00],\n",
              "       [ 1.3234756e+00],\n",
              "       [ 5.4785538e-01],\n",
              "       [-1.3107358e+00],\n",
              "       [ 1.3266052e+00],\n",
              "       [ 1.1730711e+00],\n",
              "       [ 2.0511935e+00],\n",
              "       [ 1.4388292e-01],\n",
              "       [-1.6671613e+00],\n",
              "       [-3.4630768e+00],\n",
              "       [ 5.1022506e-01],\n",
              "       [-2.0464027e+00],\n",
              "       [-2.0009179e+00],\n",
              "       [-2.4319155e+00],\n",
              "       [-1.0267245e+00],\n",
              "       [ 2.2168071e+00],\n",
              "       [-2.9185622e+00],\n",
              "       [-2.3103530e+00],\n",
              "       [ 1.1302975e+00],\n",
              "       [-3.1038966e+00],\n",
              "       [-8.1246239e-01],\n",
              "       [ 1.5993763e+00],\n",
              "       [-1.9010900e+00],\n",
              "       [-2.1489792e+00],\n",
              "       [ 7.1139306e-01],\n",
              "       [ 2.2913337e+00],\n",
              "       [ 1.2650256e-01],\n",
              "       [-2.9183147e+00],\n",
              "       [-1.3042762e+00],\n",
              "       [-3.7056162e+00],\n",
              "       [-3.2750130e+00],\n",
              "       [-1.1797632e+00],\n",
              "       [ 3.5633180e-01],\n",
              "       [ 6.9387287e-02],\n",
              "       [-1.5825034e+00],\n",
              "       [ 1.8413677e+00],\n",
              "       [-2.6310978e+00],\n",
              "       [-1.7980409e+00],\n",
              "       [-1.9263273e+00],\n",
              "       [-7.8983998e-01],\n",
              "       [ 1.3746105e+00],\n",
              "       [ 2.3296764e+00],\n",
              "       [ 6.2300479e-01],\n",
              "       [ 1.0515267e+00],\n",
              "       [-2.4653847e+00],\n",
              "       [-2.5359812e+00],\n",
              "       [-9.6869713e-01],\n",
              "       [-1.4843349e+00],\n",
              "       [-6.1344618e-01],\n",
              "       [-9.1045821e-01],\n",
              "       [-5.7056367e-01],\n",
              "       [ 3.4324580e-01],\n",
              "       [-5.5804580e-01],\n",
              "       [-8.8062179e-01],\n",
              "       [ 7.0009536e-01],\n",
              "       [-2.5333242e+00],\n",
              "       [ 1.6849090e+00],\n",
              "       [ 1.7387494e+00],\n",
              "       [-1.7760853e+00],\n",
              "       [ 3.8317195e-01],\n",
              "       [ 2.2572269e+00],\n",
              "       [-2.0685349e+00],\n",
              "       [ 1.5756078e+00],\n",
              "       [-1.4780841e+00],\n",
              "       [-3.2821429e-01],\n",
              "       [ 3.9052963e-01],\n",
              "       [ 1.2585566e+00],\n",
              "       [-2.5341833e-01],\n",
              "       [ 1.6083406e+00],\n",
              "       [-2.7840614e+00],\n",
              "       [-1.8451996e-01],\n",
              "       [-2.4331188e+00],\n",
              "       [ 1.2780987e+00],\n",
              "       [-1.2406455e-01],\n",
              "       [ 1.5755168e+00],\n",
              "       [-1.6604272e+00],\n",
              "       [ 2.2130923e+00],\n",
              "       [ 1.1735781e+00],\n",
              "       [ 6.2352592e-01],\n",
              "       [ 1.0872196e+00],\n",
              "       [-2.2179394e+00],\n",
              "       [-1.1902030e+00],\n",
              "       [-2.6801803e+00],\n",
              "       [ 2.3416939e+00],\n",
              "       [-1.1822537e+00],\n",
              "       [-6.4473748e-01],\n",
              "       [ 5.8233893e-01],\n",
              "       [-1.1886661e+00],\n",
              "       [-9.7360933e-01],\n",
              "       [-2.1096556e+00],\n",
              "       [ 1.1536692e+00],\n",
              "       [ 1.2163337e+00],\n",
              "       [ 9.0531504e-01],\n",
              "       [-3.3160601e+00],\n",
              "       [-1.0663221e+00],\n",
              "       [-1.3517841e+00],\n",
              "       [-1.8705051e+00],\n",
              "       [-9.0911168e-01],\n",
              "       [-3.3137653e+00],\n",
              "       [ 2.1501219e+00],\n",
              "       [ 2.4201539e+00],\n",
              "       [-2.1550772e+00],\n",
              "       [-1.7843439e-01],\n",
              "       [ 2.3218136e+00],\n",
              "       [ 1.9284469e+00],\n",
              "       [ 1.2846984e+00],\n",
              "       [ 1.6147615e-01],\n",
              "       [ 5.1511836e-01],\n",
              "       [-3.1647322e+00],\n",
              "       [ 9.7605866e-01],\n",
              "       [ 2.1348927e+00]], dtype=float32)"
            ]
          },
          "metadata": {},
          "execution_count": 36
        }
      ]
    },
    {
      "cell_type": "code",
      "source": [
        "predicted_categories = tf.argmax(y_pred, axis=1)"
      ],
      "metadata": {
        "id": "AVhoabzbHSDz"
      },
      "execution_count": null,
      "outputs": []
    },
    {
      "cell_type": "code",
      "source": [
        "true_categories = tf.concat([y for x, y in val_ds], axis=0)"
      ],
      "metadata": {
        "id": "A7f4M9TDH-s0"
      },
      "execution_count": null,
      "outputs": []
    },
    {
      "cell_type": "code",
      "source": [
        "cf_matrix=confusion_matrix(predicted_categories, true_categories)"
      ],
      "metadata": {
        "id": "nZoXRmpwH-i7"
      },
      "execution_count": null,
      "outputs": []
    },
    {
      "cell_type": "code",
      "source": [
        "group_names = ['True Neg','False Pos','False Neg','True Pos']\n",
        "group_counts = [\"{0:0.0f}\".format(value) for value in\n",
        "cf_matrix.flatten()]\n",
        "group_percentages = [\"{0:.2%}\".format(value) for value in\n",
        "cf_matrix.flatten()/np.sum(cf_matrix)]\n",
        "labels = [f\"{v1}\\n{v2}\\n{v3}\" for v1, v2, v3 in\n",
        "zip(group_names,group_counts,group_percentages)]\n",
        "labels = np.asarray(labels).reshape(2,2)\n",
        "ax = sns.heatmap(cf_matrix, annot=labels, fmt='', cmap='Blues')\n",
        "ax.set_title('Seaborn Confusion Matrix with labels\\n\\n');\n",
        "ax.set_xlabel('\\nPredicted Values')\n",
        "ax.set_ylabel('Actual Values ');\n",
        "## Ticket labels - List must be in alphabetical order\n",
        "ax.xaxis.set_ticklabels(['False','True'])\n",
        "ax.yaxis.set_ticklabels(['False','True'])\n",
        "## Display the visualization of the Confusion Matrix.\n",
        "plt.show()"
      ],
      "metadata": {
        "colab": {
          "base_uri": "https://localhost:8080/",
          "height": 337
        },
        "id": "EhJA7VKrI3VA",
        "outputId": "6688011b-e52a-4434-df13-ac9f619c8d78"
      },
      "execution_count": null,
      "outputs": [
        {
          "output_type": "display_data",
          "data": {
            "text/plain": [
              "<Figure size 432x288 with 2 Axes>"
            ],
            "image/png": "[encoded data removed]"
          },
          "metadata": {
            "needs_background": "light"
          }
        }
      ]
    },
    {
      "cell_type": "markdown",
      "source": [
        "learning curves"
      ],
      "metadata": {
        "id": "Z0eAA1nM4NuV"
      }
    },
    {
      "cell_type": "code",
      "source": [
        "acc = model.history['accuracy']\n",
        "val_acc = model.history['val_accuracy']\n",
        "\n",
        "loss = model.history['loss']\n",
        "val_loss = model.history['val_loss']\n",
        "\n",
        "plt.figure(figsize=(8, 8))\n",
        "plt.subplot(2, 1, 1)\n",
        "plt.plot(acc, label='Training Accuracy')\n",
        "plt.plot(val_acc, label='Validation Accuracy')\n",
        "plt.legend(loc='lower right')\n",
        "plt.ylabel('Accuracy')\n",
        "plt.ylim([min(plt.ylim()),1])\n",
        "plt.title('Training and Validation Accuracy')\n",
        "\n",
        "plt.subplot(2, 1, 2)\n",
        "plt.plot(loss, label='Training Loss')\n",
        "plt.plot(val_loss, label='Validation Loss')\n",
        "plt.legend(loc='upper right')\n",
        "plt.ylabel('Cross Entropy')\n",
        "plt.ylim([0,1.0])\n",
        "plt.title('Training and Validation Loss')\n",
        "plt.xlabel('epoch')\n",
        "plt.show()"
      ],
      "metadata": {
        "id": "_kEWaIw04NYt"
      },
      "execution_count": null,
      "outputs": []
    },
    {
      "cell_type": "markdown",
      "source": [
        "# Fine-tuning the model"
      ],
      "metadata": {
        "id": "mpMP6epc0_X3"
      }
    },
    {
      "cell_type": "markdown",
      "source": [
        "The model can be improved by unfreezing the base model, and retraining it on a very low learning rate. \n",
        "\n",
        "You need to monitor this step because the wrong implementation can lead to overfitting"
      ],
      "metadata": {
        "id": "TGy2MXnx1FPI"
      }
    },
    {
      "cell_type": "code",
      "source": [
        "base_model.trainable = True"
      ],
      "metadata": {
        "id": "-QkE0BT7AzD4"
      },
      "execution_count": null,
      "outputs": []
    },
    {
      "cell_type": "markdown",
      "source": [
        "After updating the trainable attribute, the model has to be compiled again to implement the change."
      ],
      "metadata": {
        "id": "mZP_Gakb1QS8"
      }
    },
    {
      "cell_type": "code",
      "source": [
        "model.compile(optimizer=keras.optimizers.Adam(1e-4),  \n",
        "              loss=tf.keras.losses.sparse_categorical_crossentropy,\n",
        "              metrics=keras.metrics.BinaryAccuracy())"
      ],
      "metadata": {
        "id": "kJIUTCl2AzGv"
      },
      "execution_count": null,
      "outputs": []
    },
    {
      "cell_type": "markdown",
      "source": [
        "To prevent overfitting, let’s monitor training loss via a callback. Keras will stop training when the model doesn’t improve for five consecutive epochs. Let’s also use TensorBoard to monitor loss and accuracy."
      ],
      "metadata": {
        "id": "m7fQ7IS61RYt"
      }
    },
    {
      "cell_type": "code",
      "source": [
        "rm -rf logs"
      ],
      "metadata": {
        "id": "Dy-qMUmY1feD"
      },
      "execution_count": null,
      "outputs": []
    },
    {
      "cell_type": "code",
      "source": [
        "from tensorflow.keras.callbacks import EarlyStopping, TensorBoard\n",
        "\n",
        "%load_ext tensorboard\n",
        "log_folder = 'logs'\n",
        "callbacks = [\n",
        "            EarlyStopping(patience = 5),\n",
        "            TensorBoard(log_dir=log_folder)\n",
        "            ]"
      ],
      "metadata": {
        "id": "UeIuw7eO1Mo2"
      },
      "execution_count": null,
      "outputs": []
    },
    {
      "cell_type": "markdown",
      "source": [
        "retrain the model."
      ],
      "metadata": {
        "id": "aJQdFzLB1lY5"
      }
    },
    {
      "cell_type": "markdown",
      "source": [
        "chnge the epoch and learning rate"
      ],
      "metadata": {
        "id": "bpUtLclX1lQF"
      }
    },
    {
      "cell_type": "code",
      "source": [
        "model.fit(train_ds, epochs=75,validation_data=val_ds,callbacks=callbacks)"
      ],
      "metadata": {
        "colab": {
          "base_uri": "https://localhost:8080/"
        },
        "id": "xP5WOR0r1MvD",
        "outputId": "bc0e9d48-09a3-4d81-d956-86d73d7ad453"
      },
      "execution_count": null,
      "outputs": [
        {
          "output_type": "stream",
          "name": "stdout",
          "text": [
            "Epoch 1/15\n",
            "63/63 [==============================] - 17s 147ms/step - loss: 0.0575 - binary_accuracy: 0.9750 - val_loss: 0.0733 - val_binary_accuracy: 0.9670\n",
            "Epoch 2/15\n",
            "63/63 [==============================] - 8s 123ms/step - loss: 0.0447 - binary_accuracy: 0.9830 - val_loss: 0.0711 - val_binary_accuracy: 0.9690\n",
            "Epoch 3/15\n",
            "63/63 [==============================] - 8s 127ms/step - loss: 0.0429 - binary_accuracy: 0.9800 - val_loss: 0.0718 - val_binary_accuracy: 0.9680\n",
            "Epoch 4/15\n",
            "63/63 [==============================] - 8s 124ms/step - loss: 0.0385 - binary_accuracy: 0.9865 - val_loss: 0.0684 - val_binary_accuracy: 0.9730\n",
            "Epoch 5/15\n",
            "63/63 [==============================] - 8s 124ms/step - loss: 0.0386 - binary_accuracy: 0.9845 - val_loss: 0.0662 - val_binary_accuracy: 0.9710\n",
            "Epoch 6/15\n",
            "63/63 [==============================] - 8s 124ms/step - loss: 0.0339 - binary_accuracy: 0.9860 - val_loss: 0.0671 - val_binary_accuracy: 0.9710\n",
            "Epoch 7/15\n",
            "63/63 [==============================] - 8s 125ms/step - loss: 0.0292 - binary_accuracy: 0.9925 - val_loss: 0.0661 - val_binary_accuracy: 0.9720\n",
            "Epoch 8/15\n",
            "63/63 [==============================] - 8s 125ms/step - loss: 0.0248 - binary_accuracy: 0.9940 - val_loss: 0.0666 - val_binary_accuracy: 0.9720\n",
            "Epoch 9/15\n",
            "63/63 [==============================] - 8s 125ms/step - loss: 0.0231 - binary_accuracy: 0.9905 - val_loss: 0.0702 - val_binary_accuracy: 0.9720\n",
            "Epoch 10/15\n",
            "63/63 [==============================] - 8s 126ms/step - loss: 0.0226 - binary_accuracy: 0.9905 - val_loss: 0.0663 - val_binary_accuracy: 0.9730\n",
            "Epoch 11/15\n",
            "63/63 [==============================] - 8s 126ms/step - loss: 0.0194 - binary_accuracy: 0.9955 - val_loss: 0.0693 - val_binary_accuracy: 0.9750\n",
            "Epoch 12/15\n",
            "63/63 [==============================] - 8s 126ms/step - loss: 0.0212 - binary_accuracy: 0.9915 - val_loss: 0.0664 - val_binary_accuracy: 0.9740\n"
          ]
        },
        {
          "output_type": "execute_result",
          "data": {
            "text/plain": [
              "<keras.callbacks.History at 0x7f318c769410>"
            ]
          },
          "metadata": {},
          "execution_count": 23
        }
      ]
    },
    {
      "cell_type": "code",
      "source": [
        ""
      ],
      "metadata": {
        "id": "AXFgbESn1NBR"
      },
      "execution_count": null,
      "outputs": []
    },
    {
      "cell_type": "markdown",
      "source": [
        "# save model as tflite\n"
      ],
      "metadata": {
        "id": "_51OwNslBCPQ"
      }
    },
    {
      "cell_type": "code",
      "source": [
        "# Convert the model.\n",
        "converter = tf.lite.TFLiteConverter.from_keras_model(model)\n",
        "tflite_model = converter.convert()\n",
        "\n",
        "# Save the model.\n",
        "with open('model.tflite', 'wb') as f:\n",
        "  f.write(tflite_model)"
      ],
      "metadata": {
        "id": "BPp086qindQy"
      },
      "execution_count": null,
      "outputs": []
    }
  ]
}